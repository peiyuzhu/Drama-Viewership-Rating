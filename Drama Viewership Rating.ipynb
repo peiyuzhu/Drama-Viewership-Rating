{
 "cells": [
  {
   "cell_type": "code",
   "execution_count": 235,
   "metadata": {
    "collapsed": false
   },
   "outputs": [
    {
     "name": "stdout",
     "output_type": "stream",
     "text": [
      "                               0      1        2       3\n",
      "0                            NaN  Ep. #  Station  Rating\n",
      "1                Monday, Dec. 25    NaN      NaN     NaN\n",
      "2                       Jugglers      7      KBS    7.7%\n",
      "3                       Two Cops     17      MBC    6.8%\n",
      "4                       Two Cops     18      MBC    7.7%\n",
      "5            Mysterious Il-seung     17      SBS    5.7%\n",
      "6            Mysterious Il-seung     18      SBS    7.1%\n",
      "7   Rude Miss Young-ae Season 16      7      tvN    2.4%\n",
      "8            Just Between Lovers      5     JTBC    1.6%\n",
      "9               Tuesday, Dec. 26    NaN      NaN     NaN\n",
      "10                      Jugglers      8      KBS    9.9%\n",
      "11                      Two Cops     19      MBC    5.3%\n",
      "12                      Two Cops     20      MBC    6.2%\n",
      "13           Mysterious Il-seung     19      SBS    5.6%\n",
      "14           Mysterious Il-seung     20      SBS    6.3%\n",
      "15  Rude Miss Young-ae Season 16      8      tvN    3.3%\n",
      "16           Just Between Lovers      6     JTBC    1.6%\n",
      "17            Wednesday, Dec. 27    NaN      NaN     NaN\n",
      "18                  Black Knight      7      KBS   11.6%\n",
      "19               I’m Not a Robot     13      MBC    2.4%\n",
      "20               I’m Not a Robot     14      MBC    2.7%\n",
      "21               Nothing to Lose     21      SBS    6.0%\n",
      "22               Nothing to Lose     22      SBS    5.1%\n",
      "23           Smart Prison Living      –      tvN       –\n",
      "24             Thursday, Dec. 28    NaN      NaN     NaN\n",
      "25                  Black Knight      8      KBS   13.2%\n",
      "26               I’m Not a Robot     15      MBC    2.8%\n",
      "27               I’m Not a Robot     16      MBC    3.1%\n",
      "28               Nothing to Lose     23      SBS    7.6%\n",
      "29               Nothing to Lose     24      SBS    7.9%\n",
      "30           Smart Prison Living      –      tvN       –\n",
      "31               Friday, Dec. 29    NaN      NaN     NaN\n",
      "32                   Untouchable      –     JTBC       –\n",
      "33             Saturday, Dec. 30    NaN      NaN     NaN\n",
      "34                My Golden Life      –      KBS       –\n",
      "35                  Money Flower      –      MBC       –\n",
      "36                  Money Flower      –      MBC       –\n",
      "37                 Bravo My Life      –      SBS       –\n",
      "38                 Bravo My Life      –      SBS       –\n",
      "39                 Bravo My Life      –      SBS       –\n",
      "40                 Bravo My Life      –      SBS       –\n",
      "41                   Untouchable      –     JTBC       –\n",
      "42                       Hwayugi      –      tvN       –\n",
      "43        Bad Guys: City of Evil      5      OCN    3.4%\n",
      "44               Sunday, Dec. 31    NaN      NaN     NaN\n",
      "45                My Golden Life      –      KBS       –\n",
      "46        Man Who Sets the Table      –      MBC       –\n",
      "47        Man Who Sets the Table      –      MBC       –\n",
      "48                       Hwayugi      –      tvN       –\n",
      "49        Bad Guys: City of Evil      6      OCN    3.9%\n"
     ]
    }
   ],
   "source": [
    "import pandas as pd\n",
    "import requests\n",
    "import numpy as np\n",
    "from bs4 import BeautifulSoup\n",
    "\n",
    "res = requests.get(\"http://www.dramabeans.com/2017/12/drama-viewership-ratings-for-the-week-of-dec-25-31-2017/\")\n",
    "soup = BeautifulSoup(res.content,'lxml')\n",
    "table = soup.find_all('table')[0]\n",
    "tb = pd.read_html(str(table))[0]\n",
    "df = pd.DataFrame(np.array(tb).reshape(50,4))\n",
    "print(df)"
   ]
  },
  {
   "cell_type": "code",
   "execution_count": 236,
   "metadata": {
    "collapsed": false,
    "scrolled": false
   },
   "outputs": [
    {
     "name": "stdout",
     "output_type": "stream",
     "text": [
      "0                           Show Ep. # Station Rating\n",
      "1                Monday, Dec. 25   NaN     NaN    NaN\n",
      "2                       Jugglers     7     KBS   7.7%\n",
      "3                       Two Cops    17     MBC   6.8%\n",
      "4                       Two Cops    18     MBC   7.7%\n",
      "5            Mysterious Il-seung    17     SBS   5.7%\n",
      "6            Mysterious Il-seung    18     SBS   7.1%\n",
      "7   Rude Miss Young-ae Season 16     7     tvN   2.4%\n",
      "8            Just Between Lovers     5    JTBC   1.6%\n",
      "9               Tuesday, Dec. 26   NaN     NaN    NaN\n",
      "10                      Jugglers     8     KBS   9.9%\n",
      "11                      Two Cops    19     MBC   5.3%\n",
      "12                      Two Cops    20     MBC   6.2%\n",
      "13           Mysterious Il-seung    19     SBS   5.6%\n",
      "14           Mysterious Il-seung    20     SBS   6.3%\n",
      "15  Rude Miss Young-ae Season 16     8     tvN   3.3%\n",
      "16           Just Between Lovers     6    JTBC   1.6%\n",
      "17            Wednesday, Dec. 27   NaN     NaN    NaN\n",
      "18                  Black Knight     7     KBS  11.6%\n",
      "19               I’m Not a Robot    13     MBC   2.4%\n",
      "20               I’m Not a Robot    14     MBC   2.7%\n",
      "21               Nothing to Lose    21     SBS   6.0%\n",
      "22               Nothing to Lose    22     SBS   5.1%\n",
      "23           Smart Prison Living     –     tvN      –\n",
      "24             Thursday, Dec. 28   NaN     NaN    NaN\n",
      "25                  Black Knight     8     KBS  13.2%\n",
      "26               I’m Not a Robot    15     MBC   2.8%\n",
      "27               I’m Not a Robot    16     MBC   3.1%\n",
      "28               Nothing to Lose    23     SBS   7.6%\n",
      "29               Nothing to Lose    24     SBS   7.9%\n",
      "30           Smart Prison Living     –     tvN      –\n",
      "31               Friday, Dec. 29   NaN     NaN    NaN\n",
      "32                   Untouchable     –    JTBC      –\n",
      "33             Saturday, Dec. 30   NaN     NaN    NaN\n",
      "34                My Golden Life     –     KBS      –\n",
      "35                  Money Flower     –     MBC      –\n",
      "36                  Money Flower     –     MBC      –\n",
      "37                 Bravo My Life     –     SBS      –\n",
      "38                 Bravo My Life     –     SBS      –\n",
      "39                 Bravo My Life     –     SBS      –\n",
      "40                 Bravo My Life     –     SBS      –\n",
      "41                   Untouchable     –    JTBC      –\n",
      "42                       Hwayugi     –     tvN      –\n",
      "43        Bad Guys: City of Evil     5     OCN   3.4%\n",
      "44               Sunday, Dec. 31   NaN     NaN    NaN\n",
      "45                My Golden Life     –     KBS      –\n",
      "46        Man Who Sets the Table     –     MBC      –\n",
      "47        Man Who Sets the Table     –     MBC      –\n",
      "48                       Hwayugi     –     tvN      –\n",
      "49        Bad Guys: City of Evil     6     OCN   3.9%\n"
     ]
    }
   ],
   "source": [
    "col = df.iloc[0]\n",
    "col[0] = 'Show'\n",
    "df = df[1:]\n",
    "df.columns = col\n",
    "print(df)"
   ]
  },
  {
   "cell_type": "code",
   "execution_count": 237,
   "metadata": {
    "collapsed": false
   },
   "outputs": [
    {
     "name": "stdout",
     "output_type": "stream",
     "text": [
      "[1, 9, 17, 24, 31, 33, 44, 49]\n"
     ]
    }
   ],
   "source": [
    "idx_original = df.index[pd.isnull(df['Rating'])].tolist()\n",
    "idx = idx_original + [len(df)]\n",
    "print(idx)"
   ]
  },
  {
   "cell_type": "code",
   "execution_count": 238,
   "metadata": {
    "collapsed": false
   },
   "outputs": [
    {
     "name": "stdout",
     "output_type": "stream",
     "text": [
      "{0: 1, 1: 9, 2: 17, 3: 24, 4: 31, 5: 33, 6: 44, 7: 49}\n"
     ]
    }
   ],
   "source": [
    "lst = dict(enumerate(idx))\n",
    "print(lst)"
   ]
  },
  {
   "cell_type": "code",
   "execution_count": 241,
   "metadata": {
    "collapsed": false
   },
   "outputs": [
    {
     "name": "stdout",
     "output_type": "stream",
     "text": [
      "0                           Show Ep. # Station Rating                date\n",
      "1                Monday, Dec. 25   NaN     NaN    NaN                    \n",
      "2                       Jugglers     7     KBS   7.7%     Monday, Dec. 25\n",
      "3                       Two Cops    17     MBC   6.8%     Monday, Dec. 25\n",
      "4                       Two Cops    18     MBC   7.7%     Monday, Dec. 25\n",
      "5            Mysterious Il-seung    17     SBS   5.7%     Monday, Dec. 25\n",
      "6            Mysterious Il-seung    18     SBS   7.1%     Monday, Dec. 25\n",
      "7   Rude Miss Young-ae Season 16     7     tvN   2.4%     Monday, Dec. 25\n",
      "8            Just Between Lovers     5    JTBC   1.6%     Monday, Dec. 25\n",
      "9               Tuesday, Dec. 26   NaN     NaN    NaN     Monday, Dec. 25\n",
      "10                      Jugglers     8     KBS   9.9%    Tuesday, Dec. 26\n",
      "11                      Two Cops    19     MBC   5.3%    Tuesday, Dec. 26\n",
      "12                      Two Cops    20     MBC   6.2%    Tuesday, Dec. 26\n",
      "13           Mysterious Il-seung    19     SBS   5.6%    Tuesday, Dec. 26\n",
      "14           Mysterious Il-seung    20     SBS   6.3%    Tuesday, Dec. 26\n",
      "15  Rude Miss Young-ae Season 16     8     tvN   3.3%    Tuesday, Dec. 26\n",
      "16           Just Between Lovers     6    JTBC   1.6%    Tuesday, Dec. 26\n",
      "17            Wednesday, Dec. 27   NaN     NaN    NaN    Tuesday, Dec. 26\n",
      "18                  Black Knight     7     KBS  11.6%  Wednesday, Dec. 27\n",
      "19               I’m Not a Robot    13     MBC   2.4%  Wednesday, Dec. 27\n",
      "20               I’m Not a Robot    14     MBC   2.7%  Wednesday, Dec. 27\n",
      "21               Nothing to Lose    21     SBS   6.0%  Wednesday, Dec. 27\n",
      "22               Nothing to Lose    22     SBS   5.1%  Wednesday, Dec. 27\n",
      "23           Smart Prison Living     –     tvN      –  Wednesday, Dec. 27\n",
      "24             Thursday, Dec. 28   NaN     NaN    NaN  Wednesday, Dec. 27\n",
      "25                  Black Knight     8     KBS  13.2%   Thursday, Dec. 28\n",
      "26               I’m Not a Robot    15     MBC   2.8%   Thursday, Dec. 28\n",
      "27               I’m Not a Robot    16     MBC   3.1%   Thursday, Dec. 28\n",
      "28               Nothing to Lose    23     SBS   7.6%   Thursday, Dec. 28\n",
      "29               Nothing to Lose    24     SBS   7.9%   Thursday, Dec. 28\n",
      "30           Smart Prison Living     –     tvN      –   Thursday, Dec. 28\n",
      "31               Friday, Dec. 29   NaN     NaN    NaN   Thursday, Dec. 28\n",
      "32                   Untouchable     –    JTBC      –     Friday, Dec. 29\n",
      "33             Saturday, Dec. 30   NaN     NaN    NaN     Friday, Dec. 29\n",
      "34                My Golden Life     –     KBS      –   Saturday, Dec. 30\n",
      "35                  Money Flower     –     MBC      –   Saturday, Dec. 30\n",
      "36                  Money Flower     –     MBC      –   Saturday, Dec. 30\n",
      "37                 Bravo My Life     –     SBS      –   Saturday, Dec. 30\n",
      "38                 Bravo My Life     –     SBS      –   Saturday, Dec. 30\n",
      "39                 Bravo My Life     –     SBS      –   Saturday, Dec. 30\n",
      "40                 Bravo My Life     –     SBS      –   Saturday, Dec. 30\n",
      "41                   Untouchable     –    JTBC      –   Saturday, Dec. 30\n",
      "42                       Hwayugi     –     tvN      –   Saturday, Dec. 30\n",
      "43        Bad Guys: City of Evil     5     OCN   3.4%   Saturday, Dec. 30\n",
      "44               Sunday, Dec. 31   NaN     NaN    NaN   Saturday, Dec. 30\n",
      "45                My Golden Life     –     KBS      –     Sunday, Dec. 31\n",
      "46        Man Who Sets the Table     –     MBC      –     Sunday, Dec. 31\n",
      "47        Man Who Sets the Table     –     MBC      –     Sunday, Dec. 31\n",
      "48                       Hwayugi     –     tvN      –     Sunday, Dec. 31\n",
      "49        Bad Guys: City of Evil     6     OCN   3.9%     Sunday, Dec. 31\n"
     ]
    }
   ],
   "source": [
    "df['date']=''\n",
    "for i in range(0,len(lst)-1):\n",
    "        for index, row in df.iterrows():\n",
    "            if index > lst[i] and index <= lst[i+1]:\n",
    "                df['date'][index]=df['Show'][lst[i]]\n",
    "print(df)"
   ]
  },
  {
   "cell_type": "code",
   "execution_count": 242,
   "metadata": {
    "collapsed": false
   },
   "outputs": [
    {
     "name": "stdout",
     "output_type": "stream",
     "text": [
      "0                           Show Ep. # Station Rating                date\n",
      "2                       Jugglers     7     KBS   7.7%     Monday, Dec. 25\n",
      "3                       Two Cops    17     MBC   6.8%     Monday, Dec. 25\n",
      "4                       Two Cops    18     MBC   7.7%     Monday, Dec. 25\n",
      "5            Mysterious Il-seung    17     SBS   5.7%     Monday, Dec. 25\n",
      "6            Mysterious Il-seung    18     SBS   7.1%     Monday, Dec. 25\n",
      "7   Rude Miss Young-ae Season 16     7     tvN   2.4%     Monday, Dec. 25\n",
      "8            Just Between Lovers     5    JTBC   1.6%     Monday, Dec. 25\n",
      "10                      Jugglers     8     KBS   9.9%    Tuesday, Dec. 26\n",
      "11                      Two Cops    19     MBC   5.3%    Tuesday, Dec. 26\n",
      "12                      Two Cops    20     MBC   6.2%    Tuesday, Dec. 26\n",
      "13           Mysterious Il-seung    19     SBS   5.6%    Tuesday, Dec. 26\n",
      "14           Mysterious Il-seung    20     SBS   6.3%    Tuesday, Dec. 26\n",
      "15  Rude Miss Young-ae Season 16     8     tvN   3.3%    Tuesday, Dec. 26\n",
      "16           Just Between Lovers     6    JTBC   1.6%    Tuesday, Dec. 26\n",
      "18                  Black Knight     7     KBS  11.6%  Wednesday, Dec. 27\n",
      "19               I’m Not a Robot    13     MBC   2.4%  Wednesday, Dec. 27\n",
      "20               I’m Not a Robot    14     MBC   2.7%  Wednesday, Dec. 27\n",
      "21               Nothing to Lose    21     SBS   6.0%  Wednesday, Dec. 27\n",
      "22               Nothing to Lose    22     SBS   5.1%  Wednesday, Dec. 27\n",
      "23           Smart Prison Living     –     tvN      –  Wednesday, Dec. 27\n",
      "25                  Black Knight     8     KBS  13.2%   Thursday, Dec. 28\n",
      "26               I’m Not a Robot    15     MBC   2.8%   Thursday, Dec. 28\n",
      "27               I’m Not a Robot    16     MBC   3.1%   Thursday, Dec. 28\n",
      "28               Nothing to Lose    23     SBS   7.6%   Thursday, Dec. 28\n",
      "29               Nothing to Lose    24     SBS   7.9%   Thursday, Dec. 28\n",
      "30           Smart Prison Living     –     tvN      –   Thursday, Dec. 28\n",
      "32                   Untouchable     –    JTBC      –     Friday, Dec. 29\n",
      "34                My Golden Life     –     KBS      –   Saturday, Dec. 30\n",
      "35                  Money Flower     –     MBC      –   Saturday, Dec. 30\n",
      "36                  Money Flower     –     MBC      –   Saturday, Dec. 30\n",
      "37                 Bravo My Life     –     SBS      –   Saturday, Dec. 30\n",
      "38                 Bravo My Life     –     SBS      –   Saturday, Dec. 30\n",
      "39                 Bravo My Life     –     SBS      –   Saturday, Dec. 30\n",
      "40                 Bravo My Life     –     SBS      –   Saturday, Dec. 30\n",
      "41                   Untouchable     –    JTBC      –   Saturday, Dec. 30\n",
      "42                       Hwayugi     –     tvN      –   Saturday, Dec. 30\n",
      "43        Bad Guys: City of Evil     5     OCN   3.4%   Saturday, Dec. 30\n",
      "45                My Golden Life     –     KBS      –     Sunday, Dec. 31\n",
      "46        Man Who Sets the Table     –     MBC      –     Sunday, Dec. 31\n",
      "47        Man Who Sets the Table     –     MBC      –     Sunday, Dec. 31\n",
      "48                       Hwayugi     –     tvN      –     Sunday, Dec. 31\n",
      "49        Bad Guys: City of Evil     6     OCN   3.9%     Sunday, Dec. 31\n"
     ]
    }
   ],
   "source": [
    "df = df.drop(idx_original)\n",
    "print(df)"
   ]
  },
  {
   "cell_type": "code",
   "execution_count": null,
   "metadata": {
    "collapsed": true
   },
   "outputs": [],
   "source": []
  }
 ],
 "metadata": {
  "kernelspec": {
   "display_name": "Python 3",
   "language": "python",
   "name": "python3"
  },
  "language_info": {
   "codemirror_mode": {
    "name": "ipython",
    "version": 3
   },
   "file_extension": ".py",
   "mimetype": "text/x-python",
   "name": "python",
   "nbconvert_exporter": "python",
   "pygments_lexer": "ipython3",
   "version": "3.6.0"
  }
 },
 "nbformat": 4,
 "nbformat_minor": 2
}
